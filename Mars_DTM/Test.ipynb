{
 "cells": [
  {
   "cell_type": "code",
   "execution_count": 1,
   "metadata": {},
   "outputs": [
    {
     "name": "stdout",
     "output_type": "stream",
     "text": [
      "/Users/briangaudet/Study/Subjects/MachineLearning/Projects/PCM/RUN8/Test_3dof/Run/Test_DTM\n"
     ]
    }
   ],
   "source": [
    "import numpy as np\n",
    "import os,sys\n",
    "\n",
    "sys.path.append('../RL_lib/Utils')\n",
    "sys.path.append('../..')\n",
    "%load_ext autoreload\n",
    "%autoreload 2\n",
    "%matplotlib nbagg\n",
    "import os\n",
    "print(os.getcwd())"
   ]
  },
  {
   "cell_type": "code",
   "execution_count": 2,
   "metadata": {},
   "outputs": [
    {
     "data": {
      "text/html": [
       "<style>\n",
       ".output_wrapper, .output {\n",
       "    height:auto !important;\n",
       "    max-height:1000px;  /* your desired max-height here */\n",
       "}\n",
       ".output_scroll {\n",
       "    box-shadow:none !important;\n",
       "    webkit-box-shadow:none !important;\n",
       "}\n",
       "</style>"
      ],
      "text/plain": [
       "<IPython.core.display.HTML object>"
      ]
     },
     "metadata": {},
     "output_type": "display_data"
    }
   ],
   "source": [
    "%%html\n",
    "<style>\n",
    ".output_wrapper, .output {\n",
    "    height:auto !important;\n",
    "    max-height:1000px;  /* your desired max-height here */\n",
    "}\n",
    ".output_scroll {\n",
    "    box-shadow:none !important;\n",
    "    webkit-box-shadow:none !important;\n",
    "}\n",
    "</style>"
   ]
  },
  {
   "cell_type": "code",
   "execution_count": 8,
   "metadata": {},
   "outputs": [],
   "source": [
    "def make_dvec(theta=np.pi/5):\n",
    "    phi = np.random.uniform(-np.pi,np.pi)\n",
    "    dvec = np.asarray([np.sin(theta)*np.cos(phi), \n",
    "                                     np.sin(theta)*np.sin(phi), \n",
    "                                     np.cos(theta)])\n",
    "    return dvec"
   ]
  },
  {
   "cell_type": "code",
   "execution_count": 3,
   "metadata": {
    "scrolled": true
   },
   "outputs": [
    {
     "ename": "ImportError",
     "evalue": "No module named 'dtm_measurement_model_vc4'",
     "output_type": "error",
     "traceback": [
      "\u001b[0;31m---------------------------------------------------------------------------\u001b[0m",
      "\u001b[0;31mImportError\u001b[0m                               Traceback (most recent call last)",
      "\u001b[0;32m<ipython-input-3-86ddfe0eb055>\u001b[0m in \u001b[0;36m<module>\u001b[0;34m()\u001b[0m\n\u001b[0;32m----> 1\u001b[0;31m \u001b[0;32mfrom\u001b[0m \u001b[0mdtm_measurement_model_vc4\u001b[0m \u001b[0;32mimport\u001b[0m \u001b[0mDTM_measurement_model\u001b[0m\u001b[0;34m\u001b[0m\u001b[0m\n\u001b[0m\u001b[1;32m      2\u001b[0m \u001b[0;32mfrom\u001b[0m \u001b[0mtime\u001b[0m \u001b[0;32mimport\u001b[0m \u001b[0mtime\u001b[0m\u001b[0;34m\u001b[0m\u001b[0m\n\u001b[1;32m      3\u001b[0m \u001b[0mdtm\u001b[0m \u001b[0;34m=\u001b[0m \u001b[0mnp\u001b[0m\u001b[0;34m.\u001b[0m\u001b[0mload\u001b[0m\u001b[0;34m(\u001b[0m\u001b[0;34m'sdtm.npy'\u001b[0m\u001b[0;34m)\u001b[0m\u001b[0;34m\u001b[0m\u001b[0m\n\u001b[1;32m      4\u001b[0m \u001b[0mprint\u001b[0m\u001b[0;34m(\u001b[0m\u001b[0mdtm\u001b[0m\u001b[0;34m.\u001b[0m\u001b[0mshape\u001b[0m\u001b[0;34m)\u001b[0m\u001b[0;34m\u001b[0m\u001b[0m\n\u001b[1;32m      5\u001b[0m \u001b[0mmm\u001b[0m \u001b[0;34m=\u001b[0m \u001b[0mDTM_measurement_model\u001b[0m\u001b[0;34m(\u001b[0m\u001b[0mdtm\u001b[0m\u001b[0;34m)\u001b[0m\u001b[0;34m\u001b[0m\u001b[0m\n",
      "\u001b[0;31mImportError\u001b[0m: No module named 'dtm_measurement_model_vc4'"
     ]
    }
   ],
   "source": [
    "from dtm_measurement_model_vc4 import DTM_measurement_model\n",
    "from time import time\n",
    "dtm = np.load('sdtm.npy')\n",
    "print(dtm.shape)\n",
    "mm = DTM_measurement_model(dtm)\n",
    "\n",
    "m = 4*300*30\n",
    "\n",
    "var = 4\n",
    "center = np.asarray([dtm.shape[0]/2,dtm.shape[1]/2,1000])\n",
    "pos_bounds = np.asarray([dtm.shape[0]/var, dtm.shape[1]/var,1000])\n",
    "#center = np.asarray([dtm.shape[1]/2,dtm.shape[0]/2,1000])\n",
    "#pos_bounds = np.asarray([dtm.shape[1]/var, dtm.shape[0]/var,1000])\n",
    "print(center,pos_bounds)\n",
    "t0=time()\n",
    "for i in range(m):\n",
    "    pos = center + np.random.uniform(low=-pos_bounds,high=pos_bounds)\n",
    "    dvec = make_dvec()\n",
    "    reading, loc = mm.get_altimeter_reading(dvec,pos)\n",
    "    rdvec = pos - loc\n",
    "    ralt = np.linalg.norm(pos - loc)\n",
    "    rdvec /= np.linalg.norm(rdvec)\n",
    "    #print(dvec,pos,reading)\n",
    "    #print(rdvec,loc,ralt)\n",
    "print('ET: ',time()-t0)"
   ]
  },
  {
   "cell_type": "code",
   "execution_count": 47,
   "metadata": {
    "scrolled": true
   },
   "outputs": [
    {
     "name": "stdout",
     "output_type": "stream",
     "text": [
      "et:  0.002228975296020508\n",
      "848.0\n",
      "151.72000000000003\n"
     ]
    }
   ],
   "source": [
    "from time import time\n",
    "dvec = 1.0*np.asarray([0,0,-1])\n",
    "pos = np.asarray([7000,3000,1000])\n",
    "t0=time()\n",
    "reading, loc = mm.get_altimeter_reading(dvec,pos)\n",
    "t1 = time()\n",
    "print('et: ',t1-t0)\n",
    "print(reading)\n",
    "print(dtm[int(loc[0]),int(loc[1])])"
   ]
  },
  {
   "cell_type": "code",
   "execution_count": 140,
   "metadata": {},
   "outputs": [
    {
     "data": {
      "text/plain": [
       "array([9000., 1500.,  992.])"
      ]
     },
     "execution_count": 140,
     "metadata": {},
     "output_type": "execute_result"
    }
   ],
   "source": [
    "pos"
   ]
  },
  {
   "cell_type": "code",
   "execution_count": 22,
   "metadata": {},
   "outputs": [
    {
     "name": "stdout",
     "output_type": "stream",
     "text": [
      "foo\n"
     ]
    }
   ],
   "source": [
    "foo = 20*np.random.rand(100)-10\n",
    "if np.any(foo >= 10) or np.any(foo < 0):\n",
    "    print('foo')"
   ]
  },
  {
   "cell_type": "code",
   "execution_count": 23,
   "metadata": {},
   "outputs": [
    {
     "data": {
      "text/plain": [
       "-0.8090169943749473"
      ]
     },
     "execution_count": 23,
     "metadata": {},
     "output_type": "execute_result"
    }
   ],
   "source": [
    "np.cos(4*np.pi/5)"
   ]
  },
  {
   "cell_type": "code",
   "execution_count": 40,
   "metadata": {},
   "outputs": [
    {
     "name": "stdout",
     "output_type": "stream",
     "text": [
      "[ 2.6215856  -0.72792281  2.92294818]\n",
      "[ 0.31574881 -0.27634275 -0.88770874 -0.18950085] [-0.31574881  0.27634275  0.88770874  0.18950085]\n"
     ]
    }
   ],
   "source": [
    "import attitude_utils as attu\n",
    "ap = attu.Quaternion_attitude()\n",
    "e1 = np.random.uniform(low=[-np.pi,-np.pi/2+np.pi/16,-np.pi],high=[np.pi,np.pi/2-np.pi/16,np.pi])\n",
    "print(e1)\n",
    "C = attu.Euler3212DCM(e1)\n",
    "q1 = attu.DCM2EP(C)\n",
    "q2 = ap.euler3212q(e1)\n",
    "print(q1,q2)\n",
    "\n"
   ]
  },
  {
   "cell_type": "code",
   "execution_count": 47,
   "metadata": {},
   "outputs": [],
   "source": [
    "for i in range(10000):\n",
    "    e1 = np.random.uniform(low=[-np.pi,-np.pi/2+np.pi/16,-np.pi],high=[np.pi,np.pi/2-np.pi/16,np.pi])\n",
    "    C = attu.Euler3212DCM(e1)\n",
    "    q1 = attu.DCM2EP(C)\n",
    "    q2 = ap.euler3212q(e1)\n",
    "    assert q1[0] > 0"
   ]
  },
  {
   "cell_type": "code",
   "execution_count": 43,
   "metadata": {},
   "outputs": [],
   "source": [
    "for i in range(10000):\n",
    "    q1 = np.random.uniform(low=-1,high=1,size=4)\n",
    "    q1 /= np.linalg.norm(q1)\n",
    "    C = attu.EP2DCM(q1)\n",
    "    e1 = attu.DCM2Euler321(C)\n",
    "    e2 = ap.q2Euler321(q1)\n",
    "    delta = np.linalg.norm(e1-e2)\n",
    "    if delta > 1e-6:\n",
    "        print(e1,e2)\n",
    "    \n"
   ]
  },
  {
   "cell_type": "code",
   "execution_count": 44,
   "metadata": {},
   "outputs": [],
   "source": [
    "for i in range(10000):\n",
    "    q1 = np.random.uniform(low=-1,high=1,size=4)\n",
    "    q1 /= np.linalg.norm(q1)\n",
    "    q2 = -q1\n",
    "    e1 = ap.q2Euler321(q1)\n",
    "    e2 = ap.q2Euler321(q2)\n",
    "    delta = np.linalg.norm(e1-e2)\n",
    "    if delta > 1e-6:\n",
    "        print(e1,e2)\n",
    "        "
   ]
  },
  {
   "cell_type": "code",
   "execution_count": 83,
   "metadata": {},
   "outputs": [
    {
     "name": "stdout",
     "output_type": "stream",
     "text": [
      "[ True  True  True  True  True  True  True  True  True  True]\n"
     ]
    }
   ],
   "source": [
    "bob = 100*np.random.rand(10,2)\n",
    "lim = np.asarray([10,20])\n",
    "foo = np.any(bob >= lim,axis=1)\n",
    "print(foo)\n"
   ]
  },
  {
   "cell_type": "code",
   "execution_count": 96,
   "metadata": {},
   "outputs": [
    {
     "name": "stdout",
     "output_type": "stream",
     "text": [
      "[[56.93647801 39.38629065]\n",
      " [12.62343411 60.70616358]\n",
      " [79.13006674 88.17707453]\n",
      " [ 5.29155567 35.88039749]\n",
      " [ 8.69369551 20.04196537]\n",
      " [96.08842764 70.30427356]\n",
      " [91.31300504  1.40609393]\n",
      " [49.93390444 93.18367898]\n",
      " [95.6773103   9.64294144]\n",
      " [ 2.3369721  25.5418935 ]]\n",
      "[False False False  True  True False False False False  True]\n",
      "[[ 5.29155567 35.88039749]\n",
      " [ 8.69369551 20.04196537]\n",
      " [ 2.3369721  25.5418935 ]]\n"
     ]
    }
   ],
   "source": [
    "bob = 100*np.random.rand(10,2)\n",
    "print(bob)\n",
    "lim = np.asarray([10,40])\n",
    "idx = np.all(bob < lim,axis=1)\n",
    "print(idx)\n",
    "print(bob[idx])"
   ]
  },
  {
   "cell_type": "code",
   "execution_count": 102,
   "metadata": {},
   "outputs": [
    {
     "name": "stdout",
     "output_type": "stream",
     "text": [
      "[False False False  True]\n"
     ]
    }
   ],
   "source": [
    "b1 = np.asarray([True,False,False,True])\n",
    "b2 = np.asarray([False,True,True,True])\n",
    "print(np.bitwise_and(b1,b2))"
   ]
  },
  {
   "cell_type": "code",
   "execution_count": null,
   "metadata": {},
   "outputs": [],
   "source": []
  }
 ],
 "metadata": {
  "kernelspec": {
   "display_name": "Python 3",
   "language": "python",
   "name": "python3"
  },
  "language_info": {
   "codemirror_mode": {
    "name": "ipython",
    "version": 3
   },
   "file_extension": ".py",
   "mimetype": "text/x-python",
   "name": "python",
   "nbconvert_exporter": "python",
   "pygments_lexer": "ipython3",
   "version": "3.5.0"
  }
 },
 "nbformat": 4,
 "nbformat_minor": 2
}
