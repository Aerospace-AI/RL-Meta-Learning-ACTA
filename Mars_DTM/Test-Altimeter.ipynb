{
 "cells": [
  {
   "cell_type": "code",
   "execution_count": 10,
   "metadata": {},
   "outputs": [
    {
     "name": "stdout",
     "output_type": "stream",
     "text": [
      "The autoreload extension is already loaded. To reload it, use:\n",
      "  %reload_ext autoreload\n",
      "/Users/briangaudet/Study/Subjects/MachineLearning/Projects/PCM/PCM_v2/Mars_DTM\n"
     ]
    }
   ],
   "source": [
    "import numpy as np\n",
    "import os,sys\n",
    "\n",
    "sys.path.append('.')\n",
    "sys.path.append('../Mars3dof_env')\n",
    "sys.path.append('../RL_lib/Utils')\n",
    "%load_ext autoreload\n",
    "%autoreload 2\n",
    "%matplotlib nbagg\n",
    "import os\n",
    "print(os.getcwd())"
   ]
  },
  {
   "cell_type": "code",
   "execution_count": 7,
   "metadata": {},
   "outputs": [
    {
     "data": {
      "text/html": [
       "<style>\n",
       ".output_wrapper, .output {\n",
       "    height:auto !important;\n",
       "    max-height:1000px;  /* your desired max-height here */\n",
       "}\n",
       ".output_scroll {\n",
       "    box-shadow:none !important;\n",
       "    webkit-box-shadow:none !important;\n",
       "}\n",
       "</style>"
      ],
      "text/plain": [
       "<IPython.core.display.HTML object>"
      ]
     },
     "metadata": {},
     "output_type": "display_data"
    }
   ],
   "source": [
    "%%html\n",
    "<style>\n",
    ".output_wrapper, .output {\n",
    "    height:auto !important;\n",
    "    max-height:1000px;  /* your desired max-height here */\n",
    "}\n",
    ".output_scroll {\n",
    "    box-shadow:none !important;\n",
    "    webkit-box-shadow:none !important;\n",
    "}\n",
    "</style>"
   ]
  },
  {
   "cell_type": "code",
   "execution_count": 8,
   "metadata": {},
   "outputs": [
    {
     "name": "stdout",
     "output_type": "stream",
     "text": [
      "0.0 382.8380000000001\n"
     ]
    }
   ],
   "source": [
    "dtm = np.load('synth_elevations.npy')\n",
    "print(np.min(dtm), np.max(dtm))"
   ]
  },
  {
   "cell_type": "code",
   "execution_count": 17,
   "metadata": {
    "scrolled": true
   },
   "outputs": [
    {
     "name": "stdout",
     "output_type": "stream",
     "text": [
      "(10500, 8000)\n",
      "Elevations:  0.0 382.8380000000001\n",
      "DTM MM: nref fixed:  384 10500 8000\n",
      "[2551.15779697 3253.25733498 3349.4500726  2624.86264487] [-71.75136403 -80.02219773 -76.28620506 -68.01537135]\n"
     ]
    }
   ],
   "source": [
    "from dtm_measurement_model import DTM_measurement_model\n",
    "from altimeter_v import Altimeter\n",
    "from time import time\n",
    "\n",
    "\n",
    "print(dtm.shape)\n",
    "print('Elevations: ',np.min(dtm),np.max(dtm))\n",
    "max_bounds =  np.asarray([dtm.shape[0],dtm.shape[1]])\n",
    "mm = DTM_measurement_model(dtm, print_missing_beams=True)\n",
    "target_position = np.asarray([4000.,4000.,350.])\n",
    "\n",
    "altimeter = Altimeter(mm, target_position)\n",
    "\n",
    "pos = np.asarray([1500., 1000., 2300.])\n",
    "vel = np.asarray([-30,30,-70])\n",
    "\n",
    "alt, cvs = altimeter.get_reading(pos,vel)\n",
    "print(alt,cvs)"
   ]
  },
  {
   "cell_type": "code",
   "execution_count": 65,
   "metadata": {},
   "outputs": [
    {
     "name": "stdout",
     "output_type": "stream",
     "text": [
      "[0.84376428 0.65565707 0.06028347 0.79938979 0.97086282 0.49355905\n",
      " 0.45895305 0.48560347 0.39781786 0.92598239]\n",
      "[2 8 6 7 5 1 3 0 9 4]\n"
     ]
    }
   ],
   "source": [
    "foo = np.random.rand(10)\n",
    "print(foo)\n",
    "print(np.argsort(foo))"
   ]
  },
  {
   "cell_type": "code",
   "execution_count": 47,
   "metadata": {
    "scrolled": true
   },
   "outputs": [
    {
     "name": "stdout",
     "output_type": "stream",
     "text": [
      "et:  0.002228975296020508\n",
      "848.0\n",
      "151.72000000000003\n"
     ]
    }
   ],
   "source": [
    "from time import time\n",
    "dvec = 1.0*np.asarray([0,0,-1])\n",
    "pos = np.asarray([7000,3000,1000])\n",
    "t0=time()\n",
    "reading, loc = mm.get_altimeter_reading(dvec,pos)\n",
    "t1 = time()\n",
    "print('et: ',t1-t0)\n",
    "print(reading)\n",
    "print(dtm[int(loc[0]),int(loc[1])])"
   ]
  },
  {
   "cell_type": "code",
   "execution_count": 140,
   "metadata": {},
   "outputs": [
    {
     "data": {
      "text/plain": [
       "array([9000., 1500.,  992.])"
      ]
     },
     "execution_count": 140,
     "metadata": {},
     "output_type": "execute_result"
    }
   ],
   "source": [
    "pos"
   ]
  },
  {
   "cell_type": "code",
   "execution_count": 22,
   "metadata": {},
   "outputs": [
    {
     "name": "stdout",
     "output_type": "stream",
     "text": [
      "foo\n"
     ]
    }
   ],
   "source": [
    "foo = 20*np.random.rand(100)-10\n",
    "if np.any(foo >= 10) or np.any(foo < 0):\n",
    "    print('foo')"
   ]
  },
  {
   "cell_type": "code",
   "execution_count": 23,
   "metadata": {},
   "outputs": [
    {
     "data": {
      "text/plain": [
       "-0.8090169943749473"
      ]
     },
     "execution_count": 23,
     "metadata": {},
     "output_type": "execute_result"
    }
   ],
   "source": [
    "np.cos(4*np.pi/5)"
   ]
  },
  {
   "cell_type": "code",
   "execution_count": 40,
   "metadata": {},
   "outputs": [
    {
     "name": "stdout",
     "output_type": "stream",
     "text": [
      "[ 2.6215856  -0.72792281  2.92294818]\n",
      "[ 0.31574881 -0.27634275 -0.88770874 -0.18950085] [-0.31574881  0.27634275  0.88770874  0.18950085]\n"
     ]
    }
   ],
   "source": [
    "import attitude_utils as attu\n",
    "ap = attu.Quaternion_attitude()\n",
    "e1 = np.random.uniform(low=[-np.pi,-np.pi/2+np.pi/16,-np.pi],high=[np.pi,np.pi/2-np.pi/16,np.pi])\n",
    "print(e1)\n",
    "C = attu.Euler3212DCM(e1)\n",
    "q1 = attu.DCM2EP(C)\n",
    "q2 = ap.euler3212q(e1)\n",
    "print(q1,q2)\n",
    "\n"
   ]
  },
  {
   "cell_type": "code",
   "execution_count": 47,
   "metadata": {},
   "outputs": [],
   "source": [
    "for i in range(10000):\n",
    "    e1 = np.random.uniform(low=[-np.pi,-np.pi/2+np.pi/16,-np.pi],high=[np.pi,np.pi/2-np.pi/16,np.pi])\n",
    "    C = attu.Euler3212DCM(e1)\n",
    "    q1 = attu.DCM2EP(C)\n",
    "    q2 = ap.euler3212q(e1)\n",
    "    assert q1[0] > 0"
   ]
  },
  {
   "cell_type": "code",
   "execution_count": 43,
   "metadata": {},
   "outputs": [],
   "source": [
    "for i in range(10000):\n",
    "    q1 = np.random.uniform(low=-1,high=1,size=4)\n",
    "    q1 /= np.linalg.norm(q1)\n",
    "    C = attu.EP2DCM(q1)\n",
    "    e1 = attu.DCM2Euler321(C)\n",
    "    e2 = ap.q2Euler321(q1)\n",
    "    delta = np.linalg.norm(e1-e2)\n",
    "    if delta > 1e-6:\n",
    "        print(e1,e2)\n",
    "    \n"
   ]
  },
  {
   "cell_type": "code",
   "execution_count": 44,
   "metadata": {},
   "outputs": [],
   "source": [
    "for i in range(10000):\n",
    "    q1 = np.random.uniform(low=-1,high=1,size=4)\n",
    "    q1 /= np.linalg.norm(q1)\n",
    "    q2 = -q1\n",
    "    e1 = ap.q2Euler321(q1)\n",
    "    e2 = ap.q2Euler321(q2)\n",
    "    delta = np.linalg.norm(e1-e2)\n",
    "    if delta > 1e-6:\n",
    "        print(e1,e2)\n",
    "        "
   ]
  },
  {
   "cell_type": "code",
   "execution_count": 83,
   "metadata": {},
   "outputs": [
    {
     "name": "stdout",
     "output_type": "stream",
     "text": [
      "[ True  True  True  True  True  True  True  True  True  True]\n"
     ]
    }
   ],
   "source": [
    "bob = 100*np.random.rand(10,2)\n",
    "lim = np.asarray([10,20])\n",
    "foo = np.any(bob >= lim,axis=1)\n",
    "print(foo)\n"
   ]
  },
  {
   "cell_type": "code",
   "execution_count": 96,
   "metadata": {},
   "outputs": [
    {
     "name": "stdout",
     "output_type": "stream",
     "text": [
      "[[56.93647801 39.38629065]\n",
      " [12.62343411 60.70616358]\n",
      " [79.13006674 88.17707453]\n",
      " [ 5.29155567 35.88039749]\n",
      " [ 8.69369551 20.04196537]\n",
      " [96.08842764 70.30427356]\n",
      " [91.31300504  1.40609393]\n",
      " [49.93390444 93.18367898]\n",
      " [95.6773103   9.64294144]\n",
      " [ 2.3369721  25.5418935 ]]\n",
      "[False False False  True  True False False False False  True]\n",
      "[[ 5.29155567 35.88039749]\n",
      " [ 8.69369551 20.04196537]\n",
      " [ 2.3369721  25.5418935 ]]\n"
     ]
    }
   ],
   "source": [
    "bob = 100*np.random.rand(10,2)\n",
    "print(bob)\n",
    "lim = np.asarray([10,40])\n",
    "idx = np.all(bob < lim,axis=1)\n",
    "print(idx)\n",
    "print(bob[idx])"
   ]
  },
  {
   "cell_type": "code",
   "execution_count": 102,
   "metadata": {},
   "outputs": [
    {
     "name": "stdout",
     "output_type": "stream",
     "text": [
      "[False False False  True]\n"
     ]
    }
   ],
   "source": [
    "b1 = np.asarray([True,False,False,True])\n",
    "b2 = np.asarray([False,True,True,True])\n",
    "print(np.bitwise_and(b1,b2))"
   ]
  },
  {
   "cell_type": "code",
   "execution_count": null,
   "metadata": {},
   "outputs": [],
   "source": []
  }
 ],
 "metadata": {
  "kernelspec": {
   "display_name": "Python 3",
   "language": "python",
   "name": "python3"
  },
  "language_info": {
   "codemirror_mode": {
    "name": "ipython",
    "version": 3
   },
   "file_extension": ".py",
   "mimetype": "text/x-python",
   "name": "python",
   "nbconvert_exporter": "python",
   "pygments_lexer": "ipython3",
   "version": "3.5.0"
  }
 },
 "nbformat": 4,
 "nbformat_minor": 2
}
