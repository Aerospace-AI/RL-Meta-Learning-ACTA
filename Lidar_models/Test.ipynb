{
 "cells": [
  {
   "cell_type": "code",
   "execution_count": 43,
   "metadata": {},
   "outputs": [
    {
     "name": "stdout",
     "output_type": "stream",
     "text": [
      "The autoreload extension is already loaded. To reload it, use:\n",
      "  %reload_ext autoreload\n",
      "/Users/briangaudet/Study/Subjects/MachineLearning/Projects/Asteroid_CPO/Lidar_models\n"
     ]
    }
   ],
   "source": [
    "import numpy as np\n",
    "import os,sys\n",
    "\n",
    "sys.path.append('../RL_lib/Utils')\n",
    "sys.path.append('../Asteroid_shapemodels')\n",
    "%load_ext autoreload\n",
    "%autoreload 2\n",
    "%matplotlib nbagg\n",
    "import os\n",
    "print(os.getcwd())"
   ]
  },
  {
   "cell_type": "code",
   "execution_count": 11,
   "metadata": {},
   "outputs": [
    {
     "data": {
      "text/html": [
       "<style>\n",
       ".output_wrapper, .output {\n",
       "    height:auto !important;\n",
       "    max-height:1000px;  /* your desired max-height here */\n",
       "}\n",
       ".output_scroll {\n",
       "    box-shadow:none !important;\n",
       "    webkit-box-shadow:none !important;\n",
       "}\n",
       "</style>"
      ],
      "text/plain": [
       "<IPython.core.display.HTML object>"
      ]
     },
     "metadata": {},
     "output_type": "display_data"
    }
   ],
   "source": [
    "%%html\n",
    "<style>\n",
    ".output_wrapper, .output {\n",
    "    height:auto !important;\n",
    "    max-height:1000px;  /* your desired max-height here */\n",
    "}\n",
    ".output_scroll {\n",
    "    box-shadow:none !important;\n",
    "    webkit-box-shadow:none !important;\n",
    "}\n",
    "</style>"
   ]
  },
  {
   "cell_type": "code",
   "execution_count": 13,
   "metadata": {},
   "outputs": [
    {
     "name": "stdout",
     "output_type": "stream",
     "text": [
      "Shape Model:  [-272.726875   -281.00798611 -266.34577465] [276.28392593 283.73243902 287.18      ] 12980\n",
      "Half Shape Model:  [-2.68968942e+02 -2.77535823e+02  1.00000000e-02] [275.44661871 283.73243902 287.18      ] 6516\n",
      "Shape Model Vertex Spacing (mean / min / max):  6.842243150812332 0.7947696067482021 10.219420066768421\n",
      "287.18\n"
     ]
    }
   ],
   "source": [
    "from lidar_measurement_model import Lidar_measurement_model\n",
    "from altimeter_pointing import Altimeter\n",
    "sm = 1000*np.load('../Asteroid_shapemodels/downsampled_rq36_01.npy')\n",
    "print('Shape Model: ', np.min(sm,axis=0), np.max(sm,axis=0), sm.shape[0])\n",
    "#sm = 1000*np.load('rq36.npy')\n",
    "mm = Lidar_measurement_model(sm)\n",
    "az = np.max(sm[:,2])\n",
    "print(az)"
   ]
  },
  {
   "cell_type": "code",
   "execution_count": 41,
   "metadata": {
    "scrolled": true
   },
   "outputs": [
    {
     "name": "stdout",
     "output_type": "stream",
     "text": [
      "0.0047969818115234375\n",
      "[ 1288.35415033  1135.1985074   1304.8729501  10000.        ] [0.98342525 1.11610436 0.97097576 0.        ]\n"
     ]
    }
   ],
   "source": [
    "from time import time\n",
    "target = np.asarray([0.,0.,287.])\n",
    "am = Altimeter(mm, target,theta=np.pi/16)\n",
    "t0 = time()\n",
    "p_range, p_dopplar = am.get_reading(np.asarray([0,200,1000]) ,np.asarray([-0.1,0.1,-1.0]))\n",
    "t1 = time()\n",
    "print(t1-t0)\n",
    "print(p_range,p_dopplar)\n"
   ]
  },
  {
   "cell_type": "code",
   "execution_count": 42,
   "metadata": {},
   "outputs": [
    {
     "name": "stdout",
     "output_type": "stream",
     "text": [
      "0.005096912384033203\n",
      "[1007.05333401 1003.48147441 1003.98472592 1008.76768931] [1.27798594 1.28253489 1.28189201 1.27581406]\n"
     ]
    }
   ],
   "source": [
    "from time import time\n",
    "target = np.asarray([0.,0.,287.])\n",
    "am = Altimeter(mm, target,theta=np.pi/160)\n",
    "t0 = time()\n",
    "p_range, p_dopplar = am.get_reading(np.asarray([0,0,1000]) ,np.asarray([-0.1,0.1,-1.0]))\n",
    "t1 = time()\n",
    "print(t1-t0)\n",
    "print(p_range,p_dopplar)\n"
   ]
  },
  {
   "cell_type": "code",
   "execution_count": 36,
   "metadata": {
    "scrolled": true
   },
   "outputs": [
    {
     "name": "stdout",
     "output_type": "stream",
     "text": [
      "0.49712387286318177 104.27725286665037\n",
      "-0.4192247918064912 0.4259918591544926\n",
      "63.277548809424985 591.9006244054923\n"
     ]
    }
   ],
   "source": [
    "m = 1000\n",
    "sm = mm.shape_model \n",
    "err1 = []\n",
    "\n",
    "vels = []\n",
    "ranges = []\n",
    "for i in range(m): \n",
    "    #print('******* ', i)\n",
    "    pos = np.random.uniform(low=[-50,-50,300],high=[50,50,500])\n",
    "    #print(pos)\n",
    "    vel = np.random.uniform(low=[-0.01,-0.01,-0.1],high=[0.01,0.01,0.1])\n",
    "    idx = np.random.randint(0,sm.shape[0])\n",
    "    vertex = sm[idx]\n",
    "    r = pos-vertex \n",
    "    rdvec = -r / np.linalg.norm(r)\n",
    "    gt_range = np.linalg.norm(pos-vertex)\n",
    "    p_range, p_dopplar, _ = mm.get_range(pos + 1e-1,vel,rdvec)\n",
    "    err1.append(p_range-gt_range)\n",
    "    vels.append(p_dopplar)\n",
    "    ranges.append(p_range)\n",
    "    #print('closest: ',closest)\n",
    "    #print('vertex: ', vertex)\n",
    "    #print('rdvec: ', rdvec)\n",
    "    #print(p_range-gt_range)\n",
    "    \n",
    "print(np.mean(np.abs(err1)),np.max(np.abs(err1)))\n",
    "print(np.min(vels), np.max(vels))\n",
    "print(np.min(ranges), np.max(ranges))"
   ]
  },
  {
   "cell_type": "code",
   "execution_count": null,
   "metadata": {},
   "outputs": [],
   "source": []
  }
 ],
 "metadata": {
  "kernelspec": {
   "display_name": "Python 3",
   "language": "python",
   "name": "python3"
  },
  "language_info": {
   "codemirror_mode": {
    "name": "ipython",
    "version": 3
   },
   "file_extension": ".py",
   "mimetype": "text/x-python",
   "name": "python",
   "nbconvert_exporter": "python",
   "pygments_lexer": "ipython3",
   "version": "3.5.0"
  }
 },
 "nbformat": 4,
 "nbformat_minor": 2
}
